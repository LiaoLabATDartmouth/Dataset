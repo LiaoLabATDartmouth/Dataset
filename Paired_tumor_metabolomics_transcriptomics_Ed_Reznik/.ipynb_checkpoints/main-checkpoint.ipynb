{
 "cells": [
  {
   "cell_type": "code",
   "execution_count": 2,
   "id": "ec4f2c49-726c-4078-8cee-76c22736d139",
   "metadata": {},
   "outputs": [],
   "source": [
    "import pandas as pd\n",
    "import os\n",
    "from copy import deepcopy"
   ]
  },
  {
   "cell_type": "markdown",
   "id": "6bd869ba-e3a2-498c-b6df-a4bfa0bc53fb",
   "metadata": {},
   "source": [
    "## Read master file"
   ]
  },
  {
   "cell_type": "code",
   "execution_count": 19,
   "id": "d4f8ff16-94e6-4e37-82a3-63ccddd56705",
   "metadata": {},
   "outputs": [
    {
     "data": {
      "text/html": [
       "<div>\n",
       "<style scoped>\n",
       "    .dataframe tbody tr th:only-of-type {\n",
       "        vertical-align: middle;\n",
       "    }\n",
       "\n",
       "    .dataframe tbody tr th {\n",
       "        vertical-align: top;\n",
       "    }\n",
       "\n",
       "    .dataframe thead th {\n",
       "        text-align: right;\n",
       "    }\n",
       "</style>\n",
       "<table border=\"1\" class=\"dataframe\">\n",
       "  <thead>\n",
       "    <tr style=\"text-align: right;\">\n",
       "      <th></th>\n",
       "      <th>CommonID</th>\n",
       "      <th>MetabID</th>\n",
       "      <th>ITHID</th>\n",
       "      <th>RNAID</th>\n",
       "      <th>MetabFile</th>\n",
       "      <th>MetabFile_sheet</th>\n",
       "      <th>ITHFile</th>\n",
       "      <th>RNAFile</th>\n",
       "      <th>RNA_raw_File</th>\n",
       "      <th>Dataset</th>\n",
       "      <th>Histology</th>\n",
       "      <th>TN</th>\n",
       "      <th>Identifier</th>\n",
       "    </tr>\n",
       "  </thead>\n",
       "  <tbody>\n",
       "    <tr>\n",
       "      <th>0</th>\n",
       "      <td>OV:P1</td>\n",
       "      <td>P1</td>\n",
       "      <td>GSM642933_OC01_ARN0001_s1h1s1_U133p2.CEL.gz</td>\n",
       "      <td>GSM642933_OC01_ARN0001_s1h1s1_U133p2.CEL.gz</td>\n",
       "      <td>PreprocessedData_OV.xlsx</td>\n",
       "      <td>metabo_imputed_filtered_Tumor</td>\n",
       "      <td>MergedDeconvolution.GSE26193.csv</td>\n",
       "      <td>GSE26193.hgu133plus2.gene_symbol.csv</td>\n",
       "      <td>GSE26193.hgu133plus2.gene_symbol.csv</td>\n",
       "      <td>OV</td>\n",
       "      <td>HGSOC</td>\n",
       "      <td>Tumor</td>\n",
       "      <td>OV</td>\n",
       "    </tr>\n",
       "    <tr>\n",
       "      <th>1</th>\n",
       "      <td>OV:P2</td>\n",
       "      <td>P2</td>\n",
       "      <td>GSM642966_OC01_ARN0049_s2h1s1_U133p2.CEL.gz</td>\n",
       "      <td>GSM642966_OC01_ARN0049_s2h1s1_U133p2.CEL.gz</td>\n",
       "      <td>PreprocessedData_OV.xlsx</td>\n",
       "      <td>metabo_imputed_filtered_Tumor</td>\n",
       "      <td>MergedDeconvolution.GSE26193.csv</td>\n",
       "      <td>GSE26193.hgu133plus2.gene_symbol.csv</td>\n",
       "      <td>GSE26193.hgu133plus2.gene_symbol.csv</td>\n",
       "      <td>OV</td>\n",
       "      <td>HGSOC</td>\n",
       "      <td>Tumor</td>\n",
       "      <td>OV</td>\n",
       "    </tr>\n",
       "    <tr>\n",
       "      <th>2</th>\n",
       "      <td>OV:P41</td>\n",
       "      <td>P41</td>\n",
       "      <td>GSM642979_OC01_ARN0072_s1h1s1_U133p2.CEL.gz</td>\n",
       "      <td>GSM642979_OC01_ARN0072_s1h1s1_U133p2.CEL.gz</td>\n",
       "      <td>PreprocessedData_OV.xlsx</td>\n",
       "      <td>metabo_imputed_filtered_Tumor</td>\n",
       "      <td>MergedDeconvolution.GSE26193.csv</td>\n",
       "      <td>GSE26193.hgu133plus2.gene_symbol.csv</td>\n",
       "      <td>GSE26193.hgu133plus2.gene_symbol.csv</td>\n",
       "      <td>OV</td>\n",
       "      <td>HGSOC</td>\n",
       "      <td>Tumor</td>\n",
       "      <td>OV</td>\n",
       "    </tr>\n",
       "    <tr>\n",
       "      <th>3</th>\n",
       "      <td>OV:P42</td>\n",
       "      <td>P42</td>\n",
       "      <td>GSM643007_OC01_ARN0118_s1h1s1_U133p2.CEL.gz</td>\n",
       "      <td>GSM643007_OC01_ARN0118_s1h1s1_U133p2.CEL.gz</td>\n",
       "      <td>PreprocessedData_OV.xlsx</td>\n",
       "      <td>metabo_imputed_filtered_Tumor</td>\n",
       "      <td>MergedDeconvolution.GSE26193.csv</td>\n",
       "      <td>GSE26193.hgu133plus2.gene_symbol.csv</td>\n",
       "      <td>GSE26193.hgu133plus2.gene_symbol.csv</td>\n",
       "      <td>OV</td>\n",
       "      <td>HGSOC</td>\n",
       "      <td>Tumor</td>\n",
       "      <td>OV</td>\n",
       "    </tr>\n",
       "    <tr>\n",
       "      <th>4</th>\n",
       "      <td>OV:P43</td>\n",
       "      <td>P43</td>\n",
       "      <td>GSM642949_OC01_ARN0026_s2h1s1_U133p2.CEL.gz</td>\n",
       "      <td>GSM642949_OC01_ARN0026_s2h1s1_U133p2.CEL.gz</td>\n",
       "      <td>PreprocessedData_OV.xlsx</td>\n",
       "      <td>metabo_imputed_filtered_Tumor</td>\n",
       "      <td>MergedDeconvolution.GSE26193.csv</td>\n",
       "      <td>GSE26193.hgu133plus2.gene_symbol.csv</td>\n",
       "      <td>GSE26193.hgu133plus2.gene_symbol.csv</td>\n",
       "      <td>OV</td>\n",
       "      <td>HGSOC</td>\n",
       "      <td>Tumor</td>\n",
       "      <td>OV</td>\n",
       "    </tr>\n",
       "  </tbody>\n",
       "</table>\n",
       "</div>"
      ],
      "text/plain": [
       "  CommonID MetabID                                        ITHID  \\\n",
       "0    OV:P1      P1  GSM642933_OC01_ARN0001_s1h1s1_U133p2.CEL.gz   \n",
       "1    OV:P2      P2  GSM642966_OC01_ARN0049_s2h1s1_U133p2.CEL.gz   \n",
       "2   OV:P41     P41  GSM642979_OC01_ARN0072_s1h1s1_U133p2.CEL.gz   \n",
       "3   OV:P42     P42  GSM643007_OC01_ARN0118_s1h1s1_U133p2.CEL.gz   \n",
       "4   OV:P43     P43  GSM642949_OC01_ARN0026_s2h1s1_U133p2.CEL.gz   \n",
       "\n",
       "                                         RNAID                 MetabFile  \\\n",
       "0  GSM642933_OC01_ARN0001_s1h1s1_U133p2.CEL.gz  PreprocessedData_OV.xlsx   \n",
       "1  GSM642966_OC01_ARN0049_s2h1s1_U133p2.CEL.gz  PreprocessedData_OV.xlsx   \n",
       "2  GSM642979_OC01_ARN0072_s1h1s1_U133p2.CEL.gz  PreprocessedData_OV.xlsx   \n",
       "3  GSM643007_OC01_ARN0118_s1h1s1_U133p2.CEL.gz  PreprocessedData_OV.xlsx   \n",
       "4  GSM642949_OC01_ARN0026_s2h1s1_U133p2.CEL.gz  PreprocessedData_OV.xlsx   \n",
       "\n",
       "                 MetabFile_sheet                           ITHFile  \\\n",
       "0  metabo_imputed_filtered_Tumor  MergedDeconvolution.GSE26193.csv   \n",
       "1  metabo_imputed_filtered_Tumor  MergedDeconvolution.GSE26193.csv   \n",
       "2  metabo_imputed_filtered_Tumor  MergedDeconvolution.GSE26193.csv   \n",
       "3  metabo_imputed_filtered_Tumor  MergedDeconvolution.GSE26193.csv   \n",
       "4  metabo_imputed_filtered_Tumor  MergedDeconvolution.GSE26193.csv   \n",
       "\n",
       "                                RNAFile                          RNA_raw_File  \\\n",
       "0  GSE26193.hgu133plus2.gene_symbol.csv  GSE26193.hgu133plus2.gene_symbol.csv   \n",
       "1  GSE26193.hgu133plus2.gene_symbol.csv  GSE26193.hgu133plus2.gene_symbol.csv   \n",
       "2  GSE26193.hgu133plus2.gene_symbol.csv  GSE26193.hgu133plus2.gene_symbol.csv   \n",
       "3  GSE26193.hgu133plus2.gene_symbol.csv  GSE26193.hgu133plus2.gene_symbol.csv   \n",
       "4  GSE26193.hgu133plus2.gene_symbol.csv  GSE26193.hgu133plus2.gene_symbol.csv   \n",
       "\n",
       "  Dataset Histology     TN Identifier  \n",
       "0      OV     HGSOC  Tumor         OV  \n",
       "1      OV     HGSOC  Tumor         OV  \n",
       "2      OV     HGSOC  Tumor         OV  \n",
       "3      OV     HGSOC  Tumor         OV  \n",
       "4      OV     HGSOC  Tumor         OV  "
      ]
     },
     "execution_count": 19,
     "metadata": {},
     "output_type": "execute_result"
    }
   ],
   "source": [
    "df_map = pd.read_csv(\"../data/MasterMapping_MetImmune_03_16_2022_release.csv\")\n",
    "df_map.head()"
   ]
  },
  {
   "cell_type": "code",
   "execution_count": 27,
   "id": "e355607a-a28f-49d1-9d4a-07326ce543d4",
   "metadata": {},
   "outputs": [
    {
     "data": {
      "text/plain": [
       "988"
      ]
     },
     "execution_count": 27,
     "metadata": {},
     "output_type": "execute_result"
    }
   ],
   "source": [
    "len(df_map)"
   ]
  },
  {
   "cell_type": "code",
   "execution_count": 33,
   "id": "c3ef5c4f-1296-4903-8d54-981f7779bf36",
   "metadata": {},
   "outputs": [
    {
     "data": {
      "text/plain": [
       "988"
      ]
     },
     "execution_count": 33,
     "metadata": {},
     "output_type": "execute_result"
    }
   ],
   "source": [
    "len(set(df_map.MetabID))"
   ]
  },
  {
   "cell_type": "code",
   "execution_count": 37,
   "id": "c77e4cb3-ec75-4ea9-a615-26be69032921",
   "metadata": {},
   "outputs": [
    {
     "data": {
      "text/plain": [
       "988"
      ]
     },
     "execution_count": 37,
     "metadata": {},
     "output_type": "execute_result"
    }
   ],
   "source": [
    "len(set(df_map.RNAID))"
   ]
  },
  {
   "cell_type": "code",
   "execution_count": 38,
   "id": "28eeb190-2741-437e-838a-7367159124bf",
   "metadata": {},
   "outputs": [
    {
     "data": {
      "text/plain": [
       "988"
      ]
     },
     "execution_count": 38,
     "metadata": {},
     "output_type": "execute_result"
    }
   ],
   "source": [
    "len(set(df_map.CommonID))"
   ]
  },
  {
   "cell_type": "markdown",
   "id": "b5463726-e42e-42f2-9abb-e234956084b6",
   "metadata": {},
   "source": [
    "# Read line by line"
   ]
  },
  {
   "cell_type": "code",
   "execution_count": null,
   "id": "c8a8f722-f016-4ff3-993b-9b5fb2102118",
   "metadata": {},
   "outputs": [],
   "source": [
    "df_metab = None\n",
    "df_rna = None\n",
    "\n",
    "for common_id, metabid, metabfile, metabfile_sheet, rnaid, rnafile in zip(df_map.CommonID, df_map.MetabID, df_map.MetabFile, df_map.MetabFile_sheet, df_map.RNAID, df_map.RNAFile):\n",
    "    df_metab_tmp = pd.read_excel(\"../data/metabolomics_processed/%s\"%metabfile, sheet_name=metabfile_sheet, index_col=0)[[metabid]].rename({metabid:common_id}, axis=1)\n",
    "    if df_metab is None:\n",
    "        df_metab = deepcopy(df_metab_tmp)\n",
    "    else:\n",
    "        df_metab = pd.merge(df_metab, df_metab_tmp, left_index=True, right_index=True, how='outer')\n",
    "\n",
    "    df_rna_tmp = pd.read_csv(\"../data/transcriptomics_processed/%s\"%rnafile, index_col=0)[[rnaid]].rename({rnaid:common_id}, axis=1)\n",
    "    if df_rna is None:\n",
    "        df_rna = deepcopy(df_rna_tmp)\n",
    "    else:\n",
    "        df_rna = pd.merge(df_rna, df_rna_tmp, left_index=True, right_index=True, how='outer')"
   ]
  },
  {
   "cell_type": "code",
   "execution_count": null,
   "id": "52e1358d-505c-4c85-969b-3f119275d669",
   "metadata": {},
   "outputs": [],
   "source": []
  },
  {
   "cell_type": "code",
   "execution_count": null,
   "id": "6d97adc3-ea81-462c-95de-54681d3c2f03",
   "metadata": {},
   "outputs": [],
   "source": []
  },
  {
   "cell_type": "code",
   "execution_count": null,
   "id": "382f629c-e7e9-4c00-9bc9-e4d2a0450b9b",
   "metadata": {},
   "outputs": [],
   "source": []
  },
  {
   "cell_type": "code",
   "execution_count": null,
   "id": "ce981d67-220d-4a6c-9f15-75c60a234c31",
   "metadata": {},
   "outputs": [],
   "source": []
  }
 ],
 "metadata": {
  "kernelspec": {
   "display_name": "Python 3 (ipykernel)",
   "language": "python",
   "name": "python3"
  },
  "language_info": {
   "codemirror_mode": {
    "name": "ipython",
    "version": 3
   },
   "file_extension": ".py",
   "mimetype": "text/x-python",
   "name": "python",
   "nbconvert_exporter": "python",
   "pygments_lexer": "ipython3",
   "version": "3.9.13"
  }
 },
 "nbformat": 4,
 "nbformat_minor": 5
}
